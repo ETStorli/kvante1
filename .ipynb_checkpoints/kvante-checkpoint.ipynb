{
 "cells": [
  {
   "cell_type": "markdown",
   "metadata": {},
   "source": [
    "**Navn pÃ¥ gruppens medlemmer:**\n",
    "\n",
    "# Om de numeriske Ã¸vingene i kvantemekanikk\n",
    "\n",
    "MÃ¥let med de numeriske Ã¸vingene i kvantemekanikk er\n",
    "* Ã¥ bruke numeriske metoder og visualiseringer for Ã¥ forstÃ¥ kvantemekanikk bedre.\n",
    "* Ã¥ utvikle en generell \"verktÃ¸ykasse\" du kan bruke ogsÃ¥ nÃ¥r du arbeider med andre Ã¸vinger og lÃ¦rer nytt stoff i faget.\n",
    "* Ã¥ se ligningene i kvantemekanikken og lÃ¸sninger av disse fra et generelt perspektiv.\n",
    "* Ã¥ utvikle ferdigheter innen programmering og numerikk.\n",
    "\n",
    "Vi legger opp til bruk av Python sammen med bibliotekene `numpy`, `scipy` og `matplotlib` for numerikk, vitenskapelige beregninger og plotting.\n",
    "*Bruk disse for alt de er verdt!*\n",
    "God bruk av disse bibliotekene vil la deg uttrykke deg mer konsist enn om du kun bruker standard Python-funksjonalitet.\n",
    "Vi forventer at du selv finner fram til relevant funksjonalitet og dokumentasjon i bibliotekene.\n",
    "De er alle godt dokumentert pÃ¥ Internett.\n",
    "\n",
    "I Jupyter Notebook og Jupyter Lab er det mulig Ã¥ bruke ulike *backends* for plotting med `matplotlib`.\n",
    "Dette er grovt forklart forskjellige underliggende \"motorer\" som bestemmer utseende og funksjonaliteten til figurene som produseres.\n",
    "Avhengig av hvilket av programmene du bruker, vil du erfare at en backend fungerer bedre enn andre.\n",
    "I Jupyter Notebook fungerer `notebook`-backenden best og uten behov for installasjon av ekstra programvare, men i Jupyter Lab mÃ¥ tillegget [jupyter-matplotlib](https://github.com/matplotlib/jupyter-matplotlib) installeres for Ã¥ fÃ¥ den optimale `widget`-backenden til Ã¥ fungere.\n",
    "Begge programmene stÃ¸tter ogsÃ¥ `inline`-backenden uten behov for tilleggsprogramvare, men denne produserer mindre fleksible figurer og bÃ¸r kun brukes som reservelÃ¸sning.\n",
    "PrÃ¸v deg selv fram med backendene foreslÃ¥tt under for Ã¥ finne den som fungerer best for deg."
   ]
  },
  {
   "cell_type": "code",
   "execution_count": null,
   "metadata": {},
   "outputs": [],
   "source": [
    "# uncomment ONE line to choose matplotlib backend\n",
    "# if using Jupyter Notebook, use interactive \"notebook\" backend for best results\n",
    "# if using Jupyter Lab, use interactive \"widget\" backend for best results\n",
    "# if both fail, use static \"inline\" backend\n",
    "%matplotlib notebook \n",
    "#%matplotlib widget \n",
    "#%matplotlib inline \n",
    "\n",
    "import numpy as np\n",
    "import matplotlib.pyplot as plt"
   ]
  },
  {
   "cell_type": "markdown",
   "metadata": {},
   "source": [
    "## Kort om fysiske enheter i numeriske beregninger\n",
    "\n",
    "I numeriske beregninger mÃ¥ vi ta hensyn til den begrensede presisjonen og stÃ¸rrelsen til flyttallene som datamaskinen bruker for Ã¥ representere relle tall.\n",
    "I kvantemekanikken mÃ¸ter vi spesielt ofte pÃ¥ Plancks reduserte konstant $\\hbar \\approx 6.63 \\cdot 10^{-34} \\text{ Js}$ og gjerne kvadratet $\\hbar^2$. Det er i utgangspunktet ingenting i veien for Ã¥ benytte SI-enheter for alle stÃ¸rrelser som opptrer i disse Ã¸vingene. Et alternativ er Ã¥ benytte [atomÃ¦re enheter](https://en.wikipedia.org/wiki/Hartree_atomic_units).\n",
    "Dette enhetssystemet er skreddersydd for beregninger pÃ¥ atomÃ¦rt nivÃ¥.\n",
    "Her er blant annet $\\hbar$, elektronmassen $m_e$ og elementÃ¦rladningen $e$ *definert* til Ã¥ ha tallverdi $1$.\n",
    "For eksempel uttrykkes energier som multipler av Ã©n hartree, $E_h = \\hbar^2 / m_e a_0^2 \\approx 4.36 \\cdot 10^{-18} \\text{ J}$. En annen lÃ¸sning er Ã¥ benytte enheter som $\\text{nm}$ og $\\text{eV}$ for lengder og energier. En hartree tilsvarer ca. 27.2 eV, dvs. det dobbelte av grunntilstandsenergien i hydrogenatomet.\n",
    "\n",
    "**Velg selv hensiktsmessige enheter til bruk i beregningene, men vÃ¦r oppmerksom pÃ¥ den begrensede presisjonen til flyttall!**"
   ]
  },
  {
   "cell_type": "code",
   "execution_count": null,
   "metadata": {},
   "outputs": [],
   "source": []
  },
  {
   "cell_type": "markdown",
   "metadata": {},
   "source": [
    "# Numerisk lÃ¸sning av den tidsuavhengige SchrÃ¶dingerligningen\n",
    "\n",
    "Ã… lÃ¸se den tidsuavhengige SchrÃ¶dingerligningen\n",
    "$$ \\hat{H} \\psi = -\\frac{\\hbar^2}{2 m} \\psi'' + V \\psi = E \\psi, $$\n",
    "dvs. Ã¥ bestemme energiegenverdier $E$ og tilhÃ¸rende energiegenfunksjoner $\\psi(x)$ for et gitt potensial $V(x)$, er et sentralt problem i kvantemekanikken. Dette er ofte ingen enkel oppgave.\n",
    "Selv for potensialer som gir ligningen analytiske lÃ¸sninger, kreves det ofte betydelig innsats og bruk av spesielle teknikker for Ã¥ komme fram til disse.\n",
    "Vi skal her se pÃ¥ en elegant og generell teknikk for Ã¥ lÃ¸se ligningen numerisk for et vilkÃ¥rlig potensial (i Ã©n dimensjon).\n",
    "\n",
    "Numeriske lÃ¸sningsmetoder innebÃ¦rer alltid en viss avgrensning og diskretisering for Ã¥ gjÃ¸re problemet endelig og hÃ¥ndterlig for en datamaskin. Vi avgrenser her delen av rommet vi ser pÃ¥ til Ã¥ ligge mellom to endepunkter $x_0$ og $x_{N+1}$ og deler opp intervallet mellom dem i punktene $x_0, x_1, \\ldots, x_N, x_{N+1}$ med lik avstand $\\Delta x$ mellom hvert punkt.\n",
    "Utenfor dette omrÃ¥det definerer vi potensialet til $V(x \\leq x_0) = V(x \\geq x_{N+1}) = \\infty$, slik at $\\psi(x \\leq x_0) = \\psi(x \\geq x_{N+1}) = 0$ og det kun er bÃ¸lgefunksjonens verdier pÃ¥ rutenettet $\\boldsymbol{x} = [x_1, \\ldots, x_N]^T$ som er ukjente og av interesse.\n",
    "Til hvert punkt tilordner vi verdiene $\\psi_i = \\psi(x_i)$ og $V_i = V(x_i)$ til energiegenfunksjonene og potensialet, og vi refererer til verdiene av funksjonene i alle punktene ved hjelp av vektorene $\\boldsymbol{V} = [V_1, \\ldots, V_N]^T$ og $\\boldsymbol{\\psi} = [\\psi_1, \\ldots, \\psi_N]^T$.\n",
    "\n",
    "En intuitiv og enkel tilnÃ¦rming av den deriverte til en funksjon er den sentrale differansen\n",
    "$$ \\psi'(x) = \\frac{\\psi(x + \\Delta x / 2) - \\psi(x - \\Delta x / 2)}{\\Delta x} $$\n",
    "Om vi bruker denne tilnÃ¦rmingen to ganger, kan vi ogsÃ¥ tilnÃ¦rme den andrederiverte som\n",
    "$$ \\psi''(x) = \\frac{\\psi'(x + \\Delta x / 2) - \\psi'(x - \\Delta x / 2)}{\\Delta x} = \\frac{\\psi(x + \\Delta x) - 2 \\psi(x) + \\psi(x - \\Delta x)}{\\Delta x^2}$$\n",
    "\n",
    "Ved Ã¥ sette denne tilnÃ¦rmingen inn i den tidsuavhengige SchrÃ¶dingerligningen, kan vi tilnÃ¦rme den numerisk som\n",
    "$$-\\frac{\\hbar^2}{2 m} \\frac{\\psi_{i+1} - 2 \\psi_i + \\psi_{i-1}}{{\\Delta x}^2} + V_i \\psi_i = E \\psi_i \\qquad \\text{for}\\,\\, i = 1, 2, \\ldots, N$$\n",
    "\n",
    "Vi kan uttrykke denne ligningen pÃ¥ en elegant mÃ¥te ved Ã¥ innfÃ¸re $N \\times N$-Hamiltonmatrisen $H$ med elementer\n",
    "$$ H_{i j} = \\begin{cases} \n",
    "    \\hbar^2 / (m \\Delta x^2) + V_i & \\text{for} \\,\\, i = j         & \\text{(pÃ¥ diagonalen)}        \\\\ \n",
    "    -\\hbar^2 / (2 m \\Delta x^2)    & \\text{for} \\,\\, i = j \\pm 1   & \\text{(pÃ¥ semidiagonalene)}   \\\\\n",
    "    0                              & \\text{ellers}                                                 \\\\\n",
    "\\end{cases} $$\n",
    "og benytte oss av vektoren $\\boldsymbol{\\psi} = [\\psi_1, \\ldots, \\psi_N]^T$.\n",
    "Den tar da formen\n",
    "$$ H \\boldsymbol{\\psi} = E \\boldsymbol{\\psi} $$\n",
    "Energiene $E$ og energiegenfunksjonene $\\boldsymbol{\\psi}$ er dermed egenverdier og egenvektorer til matrisen $H$!\n",
    "\n",
    "Numerikkbiblioteker har funksjonalitet for Ã¥ finne egenverdier og egenvektorer til vilkÃ¥rlige matriser.\n",
    "De har gjerne ogsÃ¥ spesialiserte funksjoner som gjÃ¸r dette mer effektivt for matriser med en spesiell form, for eksempel som den *tridiagonale* (samt reelle og symmetriske) formen til matrisen $H$.\n",
    "\n",
    "**Skriv en funksjon som beregner og returnerer alle energiegenverdier $E$ og tilhÃ¸rende energiegenfunksjoner $\\boldsymbol{\\psi}$ for en partikkel med masse $m$ som befinner seg i et gitt potensial $\\boldsymbol{V}$ pÃ¥ rutenettet $\\boldsymbol{x}$. NormÃ©r energiegenfunksjonene i forstanden $\\int |\\psi|^2 \\mathrm{d}x$ = 1.**"
   ]
  },
  {
   "cell_type": "code",
   "execution_count": null,
   "metadata": {},
   "outputs": [],
   "source": []
  },
  {
   "cell_type": "markdown",
   "metadata": {},
   "source": [
    "I resten av Ã¸vingen skal vi rett og slett bare bruke denne numeriske lÃ¸sningsmetoden pÃ¥ en rekke forskjellige potensialer.\n",
    "I noen av eksemplene skal vi ogsÃ¥ sammenligne de numeriske verdiene med analytiske resultater.\n",
    "For Ã¥ gjÃ¸re denne prosessen sÃ¥ enkel som mulig, foreslÃ¥r vi at du her skriver Ã©n \"ultimat\" plottefunksjon som du kan gjenbruke i alle disse oppgavene.\n",
    "\n",
    "**Skriv en funksjon som framstiller potensialet $\\boldsymbol{V}$, energiegenverdier $E$ og energiegenfunksjoner $\\boldsymbol{\\psi}$ (eller absoluttkvadratene $|\\boldsymbol{\\psi}|^2$) pÃ¥ rutenettet $\\boldsymbol{x}$ grafisk. Funksjonen skal ogsÃ¥ kunne brukes til Ã¥ sammenligne to sett med (numeriske og analytiske) energier og energiegenfunksjoner.**\n",
    "\n",
    "**GjÃ¸r gjerne dette parallelt med resten av oppgavene, slik at du kan tilpasse framstillingen basert pÃ¥ behovene som oppstÃ¥r. Se gjerne i forelesningsnotater, bÃ¸ker og sÃ¸k rundt pÃ¥ Internett for Ã¥ fÃ¥ litt inspirasjon til hvordan framstillingen kan gjÃ¸res.**"
   ]
  },
  {
   "cell_type": "code",
   "execution_count": null,
   "metadata": {},
   "outputs": [],
   "source": []
  },
  {
   "cell_type": "markdown",
   "metadata": {},
   "source": [
    "## Partikkel i boks\n",
    "\n",
    "Et av de fÃ¸rste kvantemekaniske problemene vi stÃ¸ter pÃ¥ er partikkel i boks.\n",
    "Her er potensialet, de normerte energiegenfunksjonene og energiegenverdiene\n",
    "$$\n",
    "V(x) = \\begin{cases}0 & \\text{for}\\,\\, 0 \\leq x \\leq L \\\\ \\infty & \\text{ellers} \\end{cases},\n",
    "\\quad \\psi(x) = \\sqrt{\\frac{2}{L}} \\sin{\\frac{n \\pi x}{L}}, \n",
    "\\quad E = \\frac{n^2 \\pi^2 \\hbar^2}{2 m L^2},\n",
    "\\quad \\quad n = 1, 2, \\ldots,\n",
    "$$\n",
    "\n",
    "**Sammenlign numeriske og analytiske verdier for noen energier og energiegenfunksjoner for et elektron i en boks grafisk.**\n",
    "\n",
    "**Hvordan er spredningen i energinivÃ¥ene?**"
   ]
  },
  {
   "cell_type": "code",
   "execution_count": null,
   "metadata": {},
   "outputs": [],
   "source": []
  },
  {
   "cell_type": "markdown",
   "metadata": {},
   "source": [
    "## Harmonisk oscillator\n",
    "\n",
    "Et annet standard kvantemekanisk problem er den harmoniske oscillatoren med\n",
    "$$\n",
    "V(x) = \\frac{1}{2}m \\omega^2 x^2,\n",
    "\\quad \\psi(x) = \\frac{1}{\\sqrt{2^n n!}} \\cdot \\left(\\frac{m \\omega}{\\pi \\hbar}\\right)^{1/4} \\cdot \\exp{\\left(-\\frac{m \\omega x^2}{2 \\hbar}\\right)} \\cdot H_n\\left(\\sqrt{\\frac{m \\omega}{\\hbar}}x\\right),\n",
    "\\quad E = \\left(n+\\frac{1}{2}\\right)\\hbar \\omega,\n",
    "\\quad \\quad n = 0, 1, 2, \\ldots\n",
    "$$\n",
    "Funksjonene $H_n(y)$ (med dimensjonslÃ¸s $y$) kalles [(fysikerens) Hermitepolynomer](https://en.wikipedia.org/wiki/Hermite_polynomials).\n",
    "De er tilgjengelige i numerikkbiblioteker, men kan ogsÃ¥ beregnes fra rekursjonsrelasjonen\n",
    "$$ H_n(x) = 2 x H_{n-1}(x) - 2 (n-1) H_{n-2}(x), \\quad H_0(x) = 1, \\quad H_1(x) = 2 x$$\n",
    "\n",
    "Den harmoniske oscillatoren er spesielt interessant i topartikkelsystemer, der et problem med for eksempel to atomer med masse $m_1$ og $m_2$ i et toatomig molekyl reduseres til et ekvivalent enpartikkelproblem med *redusert masse* $m = m_1 m_2 / (m_1 + m_2)$.\n",
    "Sammen med konstanten $\\omega$ utgjÃ¸r denne et mÃ¥l pÃ¥ en fjÃ¦rkonstant som beskriver vibrasjonsbevegelsen mellom de to atomene.\n",
    "\n",
    "**Sammenlign numeriske og analytiske verdier for noen energier og energiegenfunksjoner i en harmonisk oscillator grafisk.**\n",
    "\n",
    "**Hvordan er spredningen i energinivÃ¥ene?**"
   ]
  },
  {
   "cell_type": "code",
   "execution_count": null,
   "metadata": {},
   "outputs": [],
   "source": []
  },
  {
   "cell_type": "markdown",
   "metadata": {},
   "source": [
    "## Partikkel i endelige brÃ¸nnpotensialer\n",
    "\n",
    "Et tredje velkjent eksempel er enkeltbrÃ¸nnen\n",
    "$$V(x) = \\begin{cases}\n",
    "-V_0 & \\text{for}\\,\\, 0 < x < w \\\\ \n",
    "0   & \\text{ellers}\n",
    "\\end{cases}$$\n",
    "med bredde $w$ og brÃ¸nndybde $V_0 > 0$.\n",
    "I dette potensialet finnes ingen analytiske lÃ¸sninger for de bundne stasjonÃ¦re tilstandenes energiegenverdier.\n",
    "\n",
    "EnkeltbrÃ¸nnen kan generaliseres til et potensial bestÃ¥ende av $N_w$ slike enkeltbrÃ¸nner plassert ved siden av hverandre med en fast avstand $g$ mellom hver brÃ¸nn.\n",
    "Med fÃ¸rste brÃ¸nn i $x = 0$, kan vi uttrykke det sammensatte brÃ¸nnpotensialet stykkevis som\n",
    "\n",
    "$$V(x) = \\begin{cases}\n",
    "0    & \\text{for}\\,\\, x < 0 \\,\\, \\text{og} \\,\\, x > N_w (w + g) & \\text{(utenfor brÃ¸nnomrÃ¥det)} \\\\\n",
    "-V_0 & \\text{for}\\,\\, \\frac{x}{w+g} - \\left\\lfloor \\frac{x}{w+g} \\right\\rfloor < \\frac{w}{w+g} & \\text{(i brÃ¸nnene)} \\\\\n",
    "0    & \\text{ellers} & \\text{(mellom brÃ¸nnene)} \\\\\n",
    "\\end{cases}$$\n",
    "\n",
    "Dette er en enkel modell for det periodiske potensialet som et elektron opplever i et fast stoff med en regulÃ¦r krystallinsk struktur, for eksempel et metall.\n",
    "\n",
    "**Framstill de bundne tilstandene for et elektron bÃ¥de i en enkeltbrÃ¸nn og i et sammensatt potensial bestÃ¥ende av mange brÃ¸nner grafisk. Legg inn et passe stort omrÃ¥de med $V = 0$ pÃ¥ begge sider av brÃ¸nnomrÃ¥det.**\n",
    "\n",
    "**Hvordan distribueres energinivÃ¥ene i potensialet bestÃ¥ende av mange brÃ¸nner sammenlignet med enkeltbrÃ¸nnen? Kan du ut fra dette forklare hva vi mener med *energibÃ¥ndstrukturen* til et fast stoff ved hjelp av begrepene *bÃ¥ndbredde* og *bÃ¥ndgap*?**"
   ]
  },
  {
   "cell_type": "code",
   "execution_count": null,
   "metadata": {},
   "outputs": [],
   "source": []
  },
  {
   "cell_type": "markdown",
   "metadata": {},
   "source": [
    "## Partikkel i Deltabarriere eller DeltabrÃ¸nn\n",
    "\n",
    "Et fjerde velkjent eksempel er DeltabrÃ¸nnen\n",
    "$$ V(x) = -\\alpha \\delta(x) $$\n",
    "der $\\delta(x)$ er Diracs deltafunksjon og $\\alpha > 0$ er en konstant.\n",
    "Deltapotensialet er, grovt sagt, ikke annet enn et endelig brÃ¸nnpotensial der $w \\rightarrow 0$ og $V_0 \\rightarrow \\infty$, men slik at produktet $\\alpha = V_0 w$ er endelig.\n",
    "\n",
    "**Framstill noen energier og energiegenfunksjoner for et elektron i en DeltabrÃ¸nn grafisk. ApproksimÃ©r DeltabrÃ¸nnen som en smal og dyp enkeltbrÃ¸nn.**\n",
    "\n",
    "**Hvor mange bundne tilstander ser det ut til Ã¥ vÃ¦re i DeltabrÃ¸nnen?**"
   ]
  },
  {
   "cell_type": "code",
   "execution_count": null,
   "metadata": {},
   "outputs": [],
   "source": []
  },
  {
   "cell_type": "markdown",
   "metadata": {},
   "source": [
    "## Avsluttende ord\n",
    "\n",
    "Implementeringen av den numeriske metoden har nok vÃ¦rt krevende, men vi hÃ¥per du setter pris pÃ¥ sluttresultatet.\n",
    "Selv om en hvilken som helst numerisk teknikk nÃ¸dvendigvis fÃ¸rer med seg numeriske feil og har visse begrensninger, er det pÃ¥ den andre siden forhÃ¥pentligvis tilfredsstillende Ã¥ kunne bruke Ã©n generell metode til Ã¥ utforske sÃ¥ mange problemer.\n",
    "\n",
    "**Bruk gjerne den numeriske metoden som et verktÃ¸y i framtidige situasjoner der det kan vÃ¦re nyttig Ã¥ fÃ¥ et raskt overblikk over stasjonÃ¦re tilstander eller energinivÃ¥er!**"
   ]
  },
  {
   "cell_type": "code",
   "execution_count": null,
   "metadata": {},
   "outputs": [],
   "source": []
  }
 ],
 "metadata": {
  "kernelspec": {
   "display_name": "Python 3",
   "language": "python",
   "name": "python3"
  },
  "language_info": {
   "codemirror_mode": {
    "name": "ipython",
    "version": 3
   },
   "file_extension": ".py",
   "mimetype": "text/x-python",
   "name": "python",
   "nbconvert_exporter": "python",
   "pygments_lexer": "ipython3",
   "version": "3.7.6"
  }
 },
 "nbformat": 4,
 "nbformat_minor": 4
}
